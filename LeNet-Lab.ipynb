{
 "cells": [
  {
   "cell_type": "markdown",
   "metadata": {},
   "source": [
    "# Ultrasonic Data\n",
    "![LeNet Architecture](lenet.png)\n",
    "Source: Simulated Data from Lester W. Schmerr Jr."
   ]
  },
  {
   "cell_type": "markdown",
   "metadata": {},
   "source": [
    "## Load and Consolidate data\n",
    "\n",
    "Load the Flat bottom hole data and the annotation data\n",
    "\n",
    "Loadfeatures input files of High and Low frequency component at level4 DWT\n",
    "\n",
    "Group them to form an image of shape (4,128), inorder to enable padding using numpy"
   ]
  },
  {
   "cell_type": "code",
   "execution_count": 1,
   "metadata": {
    "collapsed": false
   },
   "outputs": [
    {
     "name": "stderr",
     "output_type": "stream",
     "text": [
      "/home/kushal/anaconda3/envs/Ultrasonic_CNN_LN/lib/python3.5/importlib/_bootstrap.py:222: RuntimeWarning: numpy.dtype size changed, may indicate binary incompatibility. Expected 96, got 88\n",
      "  return f(*args, **kwds)\n",
      "/home/kushal/anaconda3/envs/Ultrasonic_CNN_LN/lib/python3.5/importlib/_bootstrap.py:222: RuntimeWarning: numpy.dtype size changed, may indicate binary incompatibility. Expected 96, got 88\n",
      "  return f(*args, **kwds)\n",
      "/home/kushal/anaconda3/envs/Ultrasonic_CNN_LN/lib/python3.5/importlib/_bootstrap.py:222: RuntimeWarning: numpy.dtype size changed, may indicate binary incompatibility. Expected 96, got 88\n",
      "  return f(*args, **kwds)\n",
      "/home/kushal/anaconda3/envs/Ultrasonic_CNN_LN/lib/python3.5/importlib/_bootstrap.py:222: RuntimeWarning: numpy.dtype size changed, may indicate binary incompatibility. Expected 96, got 88\n",
      "  return f(*args, **kwds)\n"
     ]
    },
    {
     "name": "stdout",
     "output_type": "stream",
     "text": [
      "\n",
      "Total data available: 1078\n",
      "\n",
      "Data in Positive class: 539\n",
      "\n",
      "Data in Negetive class: 539\n",
      "\n",
      "\n",
      "Shape of X_train: (872, 4, 128, 1)\n",
      "\n",
      "\n",
      "Shape of y_train: (872,)\n",
      "\n"
     ]
    }
   ],
   "source": [
    "import numpy as np\n",
    "from sklearn.utils import shuffle\n",
    "from sklearn.model_selection import train_test_split\n",
    "path=\"/home/kushal/Ultrasonic_CNN/\"\n",
    "\n",
    "def normalize_data(data):\n",
    "    a = 0.1\n",
    "    b = 0.9\n",
    "    \n",
    "    return a + ( ( (data - np.amin(data))*(b - a) )/( np.amin(data) - np.amax(data) ) )\n",
    "\n",
    "#features input files of High and low frequency component at level4 For flaw category\n",
    "dwt_llowband_file=\"Dwt_Data/dwt_ll4_fbh_124.txt\"\n",
    "dwt_lhighband_file=\"Dwt_Data/dwt_lh4_fbh_124.txt\"\n",
    "dwt_hlowband_file=\"Dwt_Data/dwt_hl4_fbh_124.txt\"\n",
    "dwt_hhighband_file=\"Dwt_Data/dwt_hh4_fbh_124.txt\"\n",
    "\n",
    "#features input files of High and low frequency component at level4 For No flaw category\n",
    "dwt_nn_llowband_file=\"Dwt_Data/dwt_ll4_nonoise_124.txt\"\n",
    "dwt_nn_lhighband_file=\"Dwt_Data/dwt_lh4_nonoise_124.txt\"\n",
    "dwt_nn_hlowband_file=\"Dwt_Data/dwt_hl4_nonoise_124.txt\"\n",
    "dwt_nn_hhighband_file=\"Dwt_Data/dwt_hh4_nonoise_124.txt\"\n",
    "\n",
    "#load feature of flaw case\n",
    "dwt_fbh_ll4=np.loadtxt(path+dwt_llowband_file)\n",
    "dwt_fbh_lh4=np.loadtxt(path+dwt_lhighband_file)\n",
    "dwt_fbh_hl4=np.loadtxt(path+dwt_hlowband_file)\n",
    "dwt_fbh_hh4=np.loadtxt(path+dwt_hhighband_file)\n",
    "\n",
    "#load feature of flaw case\n",
    "dwt_nn_ll4=np.loadtxt(path+dwt_nn_llowband_file)\n",
    "dwt_nn_lh4=np.loadtxt(path+dwt_nn_lhighband_file)\n",
    "dwt_nn_hl4=np.loadtxt(path+dwt_nn_hlowband_file)\n",
    "dwt_nn_hh4=np.loadtxt(path+dwt_nn_hhighband_file)\n",
    "\n",
    "# Check for the number of features to be same\n",
    "assert(len(dwt_fbh_ll4) == len(dwt_fbh_lh4))\n",
    "assert(len(dwt_fbh_lh4) == len(dwt_fbh_hl4))\n",
    "assert(len(dwt_fbh_hl4) == len(dwt_fbh_hh4))\n",
    "assert(len(dwt_fbh_hh4) == len(dwt_nn_ll4))\n",
    "assert(len(dwt_nn_ll4) == len(dwt_nn_lh4))\n",
    "assert(len(dwt_nn_lh4) == len(dwt_nn_hl4))\n",
    "assert(len(dwt_nn_hl4) == len(dwt_nn_hh4))\n",
    "\n",
    "print()\n",
    "print(\"Total data available: {}\".format(len(dwt_fbh_ll4)+len(dwt_nn_ll4)))\n",
    "print()\n",
    "print(\"Data in Positive class: {}\".format(len(dwt_fbh_ll4)))\n",
    "print()\n",
    "print(\"Data in Negetive class: {}\".format(len(dwt_nn_ll4)))\n",
    "print()\n",
    "\n",
    "\n",
    "# Group different frequency components of same data together\n",
    "X_p=[]\n",
    "y_p=[]\n",
    "\n",
    "for i in range(len(dwt_fbh_ll4)):\n",
    "    temp_input=np.array([dwt_fbh_ll4[i,:],dwt_fbh_lh4[i,:],dwt_fbh_hl4[i,:],dwt_fbh_hh4[i,:]])\n",
    "    temp_input=np.absolute(temp_input)\n",
    "    temp_input=np.reshape(temp_input,(4,128,1))\n",
    "    temp_input=normalize_data(temp_input)\n",
    "    temp_y=2\n",
    "    X_p.append(temp_input)\n",
    "    y_p.append(temp_y)\n",
    "X_n=[]\n",
    "y_n=[]\n",
    "for i in range(len(dwt_nn_ll4)):\n",
    "    temp_input=np.array([dwt_nn_ll4[i,:],dwt_nn_lh4[i,:],dwt_nn_hl4[i,:],dwt_nn_hh4[i,:]])\n",
    "    temp_input=np.absolute(temp_input)\n",
    "    temp_input=np.reshape(temp_input,(4,128,1))\n",
    "    temp_input=normalize_data(temp_input)\n",
    "    temp_y=1\n",
    "    X_n.append(temp_input)\n",
    "    y_n.append(temp_y)\n",
    "\n",
    "X_p, y_p = shuffle(X_p, y_p)\n",
    "\n",
    "X_n, y_n = shuffle(X_n, y_n)\n",
    "\n",
    "Xp_train,Xp_test,yp_train,yp_test=train_test_split(X_p,y_p,test_size=0.1,random_state=0)\n",
    "Xp_train,Xp_validation,yp_train,yp_validation=train_test_split(Xp_train,yp_train,test_size=0.1,random_state=0)\n",
    "\n",
    "Xn_train,Xn_test,yn_train,yn_test=train_test_split(X_n,y_n,test_size=0.1,random_state=0)\n",
    "Xn_train,Xn_validation,yn_train,yn_validation=train_test_split(Xn_train,yn_train,test_size=0.1,random_state=0)\n",
    "\n",
    "X_train=np.vstack((Xp_train,Xn_train))\n",
    "y_train=np.hstack((yp_train,yn_train))\n",
    "X_test=np.vstack((Xp_test,Xn_test))\n",
    "y_test=np.hstack((yp_test,yn_test))\n",
    "X_validation=np.vstack((Xp_validation,Xn_validation))\n",
    "y_validation=np.hstack((yp_validation,yn_validation))\n",
    "\n",
    "\n",
    "\n",
    "\n",
    "print()\n",
    "print(\"Shape of X_train: {}\".format(np.shape(X_train)))\n",
    "print()\n",
    "print()\n",
    "print(\"Shape of y_train: {}\".format(np.shape(y_train)))\n",
    "print()\n"
   ]
  },
  {
   "cell_type": "markdown",
   "metadata": {},
   "source": [
    "## Split Data set into train/validation/test sets.\n",
    "\n",
    "30% of total data is reservered for testing.\n",
    "25% of the remaining data(70%) is used for validation.\n",
    "75% of the remaining data(70%) is used for training "
   ]
  },
  {
   "cell_type": "code",
   "execution_count": 2,
   "metadata": {
    "collapsed": false
   },
   "outputs": [
    {
     "name": "stdout",
     "output_type": "stream",
     "text": [
      "Test Set:       108 samples\n",
      "Training Set:   872 samples\n",
      "Validation Set: 98 samples\n"
     ]
    }
   ],
   "source": [
    "\n",
    "\n",
    "assert(len(X_test) == len(y_test))\n",
    "assert(len(X_train) == len(y_train))\n",
    "assert(len(X_validation) == len(y_validation))\n",
    "print(\"Test Set:       {} samples\".format(len(X_test)))\n",
    "print(\"Training Set:   {} samples\".format(len(X_train)))\n",
    "print(\"Validation Set: {} samples\".format(len(X_validation)))"
   ]
  },
  {
   "cell_type": "markdown",
   "metadata": {},
   "source": [
    "The MNIST data that TensorFlow pre-loads comes as 28x28x1 images.\n",
    "\n",
    "However, the LeNet architecture only accepts 32x32xC images, where C is the number of color channels.\n",
    "\n",
    "In order to reformat the MNIST data into a shape that LeNet will accept, we pad the data with two rows of zeros on the top and bottom, and two columns of zeros on the left and right (28+2+2 = 32).\n",
    "\n",
    "You do not need to modify this section."
   ]
  },
  {
   "cell_type": "code",
   "execution_count": 3,
   "metadata": {
    "collapsed": false
   },
   "outputs": [
    {
     "name": "stdout",
     "output_type": "stream",
     "text": [
      "Updated Image Shape: (8, 132, 1)\n"
     ]
    }
   ],
   "source": [
    "# Pad images with 0s\n",
    "X_train      = np.pad(X_train, ((0,0),(2,2),(2,2),(0,0)), 'constant')\n",
    "X_validation = np.pad(X_validation, ((0,0),(2,2),(2,2),(0,0)), 'constant')\n",
    "X_test       = np.pad(X_test, ((0,0),(2,2),(2,2),(0,0)), 'constant')\n",
    "    \n",
    "print(\"Updated Image Shape: {}\".format(X_train[0].shape))"
   ]
  },
  {
   "cell_type": "markdown",
   "metadata": {},
   "source": [
    "## Visualize Data\n",
    "\n",
    "View a sample from the dataset.\n",
    "\n",
    "You do not need to modify this section."
   ]
  },
  {
   "cell_type": "code",
   "execution_count": 4,
   "metadata": {
    "collapsed": false
   },
   "outputs": [
    {
     "name": "stdout",
     "output_type": "stream",
     "text": [
      "1\n"
     ]
    },
    {
     "data": {
      "image/png": "[encoded data removed]",
      "text/plain": [
       "<matplotlib.figure.Figure at 0x7f638842ddd8>"
      ]
     },
     "metadata": {},
     "output_type": "display_data"
    }
   ],
   "source": [
    "import random\n",
    "import numpy as np\n",
    "import matplotlib.pyplot as plt\n",
    "%matplotlib inline\n",
    "\n",
    "index = random.randint(0, len(X_train))\n",
    "image = X_train[index].squeeze()\n",
    "\n",
    "plt.figure()\n",
    "plt.imshow(image, cmap=\"gray\")\n",
    "print(y_train[index])"
   ]
  },
  {
   "cell_type": "markdown",
   "metadata": {},
   "source": [
    "## Preprocess Data\n",
    "\n",
    "Shuffle the training data.\n",
    "\n",
    "You do not need to modify this section."
   ]
  },
  {
   "cell_type": "code",
   "execution_count": 5,
   "metadata": {
    "collapsed": true
   },
   "outputs": [],
   "source": [
    "X_train, y_train = shuffle(X_train, y_train)"
   ]
  },
  {
   "cell_type": "markdown",
   "metadata": {},
   "source": [
    "## Setup TensorFlow\n",
    "The `EPOCH` and `BATCH_SIZE` values affect the training speed and model accuracy.\n",
    "\n",
    "You do not need to modify this section."
   ]
  },
  {
   "cell_type": "code",
   "execution_count": 6,
   "metadata": {
    "collapsed": false
   },
   "outputs": [
    {
     "name": "stderr",
     "output_type": "stream",
     "text": [
      "/home/kushal/anaconda3/envs/Ultrasonic_CNN_LN/lib/python3.5/importlib/_bootstrap.py:222: RuntimeWarning: numpy.dtype size changed, may indicate binary incompatibility. Expected 96, got 88\n",
      "  return f(*args, **kwds)\n"
     ]
    }
   ],
   "source": [
    "import tensorflow as tf\n",
    "\n",
    "EPOCHS = 5\n",
    "BATCH_SIZE = 100"
   ]
  },
  {
   "cell_type": "markdown",
   "metadata": {},
   "source": [
    "## Implementation based on LeNet\n",
    "First Architecture inspired from [LeNet-5](http://yann.lecun.com/exdb/lenet/) neural network architecture.\n",
    "\n",
    "This architecture is given the name UltraNDT-LeNet.\n",
    "\n",
    "### Input\n",
    "The UltraNDT-LeNet accepts input of size 6x132x1\n",
    "\n",
    "### Architecture\n",
    "**Layer 1: Convolutional.** The output shape will be 6x128x8.\n",
    "\n",
    "**Activation.** Your choice of activation function.\n",
    "\n",
    "**Pooling.** The output shape should be 3x64x6.\n",
    "\n",
    "**Layer 2: Convolutional.** The output shape should be 3x60x20.\n",
    "\n",
    "**Activation.** Your choice of activation function.\n",
    "\n",
    "**Pooling.** The output shape should be 2x30x20.\n",
    "\n",
    "**Flatten.** Flatten the output shape of the final pooling layer such that it's 1D instead of 3D. The easiest way to do is by using `tf.contrib.layers.flatten`, which is already imported for you.\n",
    "\n",
    "**Layer 3: Fully Connected.** This should have 600 outputs.\n",
    "\n",
    "**Activation.** Your choice of activation function.\n",
    "\n",
    "**Layer 4: Fully Connected.** This should have 300 outputs.\n",
    "\n",
    "**Activation.** Your choice of activation function.\n",
    "\n",
    "**Layer 5: Fully Connected (Logits).** This should have 128 outputs.\n",
    "\n",
    "### Output\n",
    "Return the result of the 2nd fully connected layer."
   ]
  },
  {
   "cell_type": "code",
   "execution_count": 19,
   "metadata": {
    "collapsed": true
   },
   "outputs": [],
   "source": [
    "from tensorflow.contrib.layers import flatten\n",
    "\n",
    "def LeNet(x):    \n",
    "    # Arguments used for tf.truncated_normal, randomly defines variables for the weights and biases for each layer\n",
    "    mu = 0\n",
    "    sigma = 0.1\n",
    "    Filter_Weights1=tf.Variable(tf.truncated_normal((2,10,1,6),mean=mu,stddev=sigma))\n",
    "    Filter_Bias1=tf.Variable(tf.zeros(6))\n",
    "    Filter_Weights2=tf.Variable(tf.truncated_normal((2,10,6,16),mean=mu,stddev=sigma))\n",
    "    Filter_Bias2=tf.Variable(tf.zeros(16))\n",
    "    FNN_Weights3=tf.Variable(tf.truncated_normal((864,500),mean=mu,stddev=sigma))\n",
    "    FNN_Bias3=tf.Variable(tf.zeros(500))\n",
    "    FNN_Weights4=tf.Variable(tf.truncated_normal((500,250),mean=mu,stddev=sigma))\n",
    "    FNN_Bias4=tf.Variable(tf.zeros(250))\n",
    "    FNN_Weights5=tf.Variable(tf.truncated_normal((250,2),mean=mu,stddev=sigma))\n",
    "    FNN_Bias5=tf.Variable(tf.zeros(2))\n",
    "    \n",
    "    print(x)\n",
    "    Layer1=tf.nn.conv2d(x,Filter_Weights1,strides=[1,1,1,1],padding='VALID')\n",
    "    Layer1=tf.nn.bias_add(Layer1,Filter_Bias1)\n",
    "    \n",
    "    Layer1=tf.nn.relu(Layer1)\n",
    "    print(Layer1)\n",
    "    Layer1=tf.nn.max_pool(Layer1,ksize=[1,2,2,1],strides=[1,2,2,1],padding='SAME')\n",
    "    print(Layer1)\n",
    "    Layer2=tf.nn.conv2d(Layer1,Filter_Weights2,strides=[1,1,1,1],padding='VALID')\n",
    "    Layer2=tf.nn.bias_add(Layer2,Filter_Bias2)\n",
    "    \n",
    "    Layer2=tf.nn.relu(Layer2)\n",
    "    print(Layer2)\n",
    "    Layer2=tf.nn.max_pool(Layer2,ksize=[1,2,2,1],strides=[1,2,2,1],padding='SAME')\n",
    "    print(Layer2)\n",
    "    Layer2=flatten(Layer2)\n",
    "    print(Layer2)\n",
    "    Layer3=tf.add(tf.matmul(Layer2,FNN_Weights3),FNN_Bias3)\n",
    "    \n",
    "    Layer3=tf.nn.relu(Layer3)\n",
    "    print(Layer3)\n",
    "    Layer4=tf.add(tf.matmul(Layer3,FNN_Weights4),FNN_Bias4)\n",
    "   \n",
    "    Layer4=tf.nn.relu(Layer4)\n",
    "    print(Layer4)\n",
    "    logits=tf.add(tf.matmul(Layer4,FNN_Weights5),FNN_Bias5)\n",
    "    \n",
    "    print(logits)\n",
    "    return logits"
   ]
  },
  {
   "cell_type": "markdown",
   "metadata": {},
   "source": [
    "## Features and Labels\n",
    "Train LeNet to classify [MNIST](http://yann.lecun.com/exdb/mnist/) data.\n",
    "\n",
    "`x` is a placeholder for a batch of input images.\n",
    "`y` is a placeholder for a batch of output labels.\n",
    "\n",
    "You do not need to modify this section."
   ]
  },
  {
   "cell_type": "code",
   "execution_count": 20,
   "metadata": {
    "collapsed": true
   },
   "outputs": [],
   "source": [
    "x = tf.placeholder(tf.float32, (None, 8, 132, 1))\n",
    "y = tf.placeholder(tf.int32, (None))\n",
    "one_hot_y = tf.one_hot(y, 2)"
   ]
  },
  {
   "cell_type": "markdown",
   "metadata": {},
   "source": [
    "## Training Pipeline\n",
    "Create a training pipeline that uses the model to classify MNIST data.\n",
    "\n",
    "You do not need to modify this section."
   ]
  },
  {
   "cell_type": "code",
   "execution_count": 21,
   "metadata": {
    "collapsed": false
   },
   "outputs": [
    {
     "name": "stdout",
     "output_type": "stream",
     "text": [
      "Tensor(\"Placeholder_8:0\", shape=(?, 8, 132, 1), dtype=float32)\n",
      "Tensor(\"Relu_12:0\", shape=(?, 7, 123, 6), dtype=float32)\n",
      "Tensor(\"MaxPool_6:0\", shape=(?, 4, 62, 6), dtype=float32)\n",
      "Tensor(\"Relu_13:0\", shape=(?, 3, 53, 16), dtype=float32)\n",
      "Tensor(\"MaxPool_7:0\", shape=(?, 2, 27, 16), dtype=float32)\n",
      "Tensor(\"Flatten_3/flatten/Reshape:0\", shape=(?, 864), dtype=float32)\n",
      "Tensor(\"Relu_14:0\", shape=(?, 500), dtype=float32)\n",
      "Tensor(\"Relu_15:0\", shape=(?, 250), dtype=float32)\n",
      "Tensor(\"Add_11:0\", shape=(?, 2), dtype=float32)\n"
     ]
    }
   ],
   "source": [
    "rate = 0.001\n",
    "\n",
    "logits = LeNet(x)\n",
    "cross_entropy = tf.nn.softmax_cross_entropy_with_logits(labels=one_hot_y, logits=logits)\n",
    "loss_operation = tf.reduce_mean(cross_entropy)\n",
    "optimizer = tf.train.AdamOptimizer(learning_rate = rate)\n",
    "training_operation = optimizer.minimize(loss_operation)"
   ]
  },
  {
   "cell_type": "markdown",
   "metadata": {},
   "source": [
    "## Model Evaluation\n",
    "Evaluate how well the loss and accuracy of the model for a given dataset.\n",
    "\n",
    "You do not need to modify this section."
   ]
  },
  {
   "cell_type": "code",
   "execution_count": 23,
   "metadata": {
    "collapsed": true
   },
   "outputs": [],
   "source": [
    "correct_prediction = tf.equal(tf.argmax(logits, 1), tf.argmax(one_hot_y, 1))\n",
    "accuracy_operation = tf.reduce_mean(tf.cast(correct_prediction, tf.float32))\n",
    "saver = tf.train.Saver()\n",
    "\n",
    "def evaluate(X_data, y_data):\n",
    "    num_examples = len(X_data)\n",
    "    total_accuracy = 0\n",
    "    sess = tf.get_default_session()\n",
    "    for offset in range(0, num_examples, BATCH_SIZE):\n",
    "        batch_x, batch_y = X_data[offset:offset+BATCH_SIZE], y_data[offset:offset+BATCH_SIZE]\n",
    "        accuracy = sess.run(accuracy_operation, feed_dict={x: batch_x, y: batch_y})\n",
    "        total_accuracy += (accuracy * len(batch_x))\n",
    "    return total_accuracy / num_examples"
   ]
  },
  {
   "cell_type": "markdown",
   "metadata": {},
   "source": [
    "## Train the Model\n",
    "Run the training data through the training pipeline to train the model.\n",
    "\n",
    "Before each epoch, shuffle the training set.\n",
    "\n",
    "After each epoch, measure the loss and accuracy of the validation set.\n",
    "\n",
    "Save the model after training.\n",
    "\n",
    "You do not need to modify this section."
   ]
  },
  {
   "cell_type": "code",
   "execution_count": 25,
   "metadata": {
    "collapsed": false
   },
   "outputs": [
    {
     "name": "stdout",
     "output_type": "stream",
     "text": [
      "Training...\n",
      "\n",
      "EPOCH 1 ...\n",
      "Validation Accuracy = 0.500\n",
      "\n",
      "EPOCH 2 ...\n",
      "Validation Accuracy = 0.500\n",
      "\n",
      "EPOCH 3 ...\n",
      "Validation Accuracy = 0.949\n",
      "\n",
      "EPOCH 4 ...\n",
      "Validation Accuracy = 0.500\n",
      "\n",
      "EPOCH 5 ...\n",
      "Validation Accuracy = 0.939\n",
      "\n",
      "Model saved\n"
     ]
    }
   ],
   "source": [
    "with tf.Session() as sess:\n",
    "    sess.run(tf.global_variables_initializer())\n",
    "    num_examples = len(X_train)\n",
    "    \n",
    "    print(\"Training...\")\n",
    "    print()\n",
    "    for i in range(EPOCHS):\n",
    "        X_train, y_train = shuffle(X_train, y_train)\n",
    "        for offset in range(0, num_examples, BATCH_SIZE):\n",
    "            end = offset + BATCH_SIZE\n",
    "            batch_x, batch_y = X_train[offset:end], y_train[offset:end]\n",
    "            sess.run(training_operation, feed_dict={x: batch_x, y: batch_y})\n",
    "            \n",
    "        validation_accuracy = evaluate(X_validation, y_validation)\n",
    "        print(\"EPOCH {} ...\".format(i+1))\n",
    "        print(\"Validation Accuracy = {:.3f}\".format(validation_accuracy))\n",
    "        print()\n",
    "        \n",
    "    saver.save(sess, './ultra_lenet')\n",
    "    print(\"Model saved\")"
   ]
  },
  {
   "cell_type": "markdown",
   "metadata": {},
   "source": [
    "## Evaluate the Model\n",
    "Once you are completely satisfied with your model, evaluate the performance of the model on the test set.\n",
    "\n",
    "Be sure to only do this once!\n",
    "\n",
    "If you were to measure the performance of your trained model on the test set, then improve your model, and then measure the performance of your model on the test set again, that would invalidate your test results. You wouldn't get a true measure of how well your model would perform against real data.\n",
    "\n",
    "You do not need to modify this section."
   ]
  },
  {
   "cell_type": "code",
   "execution_count": 26,
   "metadata": {
    "collapsed": false
   },
   "outputs": [
    {
     "name": "stdout",
     "output_type": "stream",
     "text": [
      "INFO:tensorflow:Restoring parameters from ./ultra_lenet\n",
      "Test Accuracy = 0.944\n"
     ]
    }
   ],
   "source": [
    "with tf.Session() as sess:\n",
    "    saver.restore(sess, tf.train.latest_checkpoint('.'))\n",
    "\n",
    "    test_accuracy = evaluate(X_test, y_test)\n",
    "    print(\"Test Accuracy = {:.3f}\".format(test_accuracy))"
   ]
  },
  {
   "cell_type": "code",
   "execution_count": 27,
   "metadata": {
    "collapsed": false
   },
   "outputs": [
    {
     "name": "stdout",
     "output_type": "stream",
     "text": [
      "(101, 155)\n",
      "Updated Image Shape of exp data: (8, 132, 1)\n",
      "2\n",
      "INFO:tensorflow:Restoring parameters from ./ultra_lenet\n",
      "Test Accuracy = 0.921\n"
     ]
    },
    {
     "data": {
      "image/png": "[encoded data removed]",
      "text/plain": [
       "<matplotlib.figure.Figure at 0x7fcf4d087c88>"
      ]
     },
     "metadata": {},
     "output_type": "display_data"
    }
   ],
   "source": [
    "import numpy as np\n",
    "\n",
    "def normalize_data(data):\n",
    "    a = 0.1\n",
    "    b = 0.9\n",
    "    \n",
    "    return a + ( ( (data - np.amin(data))*(b - a) )/( np.amin(data) - np.amax(data) ) )\n",
    "\n",
    "\n",
    "path=\"/home/kushal/Ultrasonic_CNN/\"\n",
    "dwt_llowband_file=\"Dwt_Data/dwt_ll4_exp_124.txt\"\n",
    "dwt_lhighband_file=\"Dwt_Data/dwt_lh4_exp_124.txt\"\n",
    "dwt_hlowband_file=\"Dwt_Data/dwt_hl4_exp_124.txt\"\n",
    "dwt_hhighband_file=\"Dwt_Data/dwt_hh4_exp_124.txt\"\n",
    "\n",
    "dwt_exp_ll4=np.loadtxt(path+dwt_llowband_file)\n",
    "dwt_exp_lh4=np.loadtxt(path+dwt_lhighband_file)\n",
    "dwt_exp_hl4=np.loadtxt(path+dwt_hlowband_file)\n",
    "dwt_exp_hh4=np.loadtxt(path+dwt_hhighband_file)\n",
    "\n",
    "\n",
    "print(np.shape(dwt_exp_ll4))\n",
    "\n",
    "X_exp=[]\n",
    "y_exp=[]\n",
    "\n",
    "for i in range(len(dwt_exp_ll4)):\n",
    "    temp_input=np.array([dwt_exp_ll4[i,15:143],dwt_exp_lh4[i,15:143],dwt_exp_hl4[i,15:143],dwt_exp_hh4[i,15:143]])\n",
    "    temp_input=np.absolute(temp_input)\n",
    "    temp_input=np.reshape(temp_input,(4,128,1))\n",
    "    temp_input=normalize_data(temp_input)\n",
    "    temp_y=2\n",
    "    X_exp.append(temp_input)\n",
    "    y_exp.append(temp_y)\n",
    "    \n",
    "\n",
    "    \n",
    "X_exp= np.pad(X_exp, ((0,0),(2,2),(2,2),(0,0)), 'constant')\n",
    "\n",
    "print(\"Updated Image Shape of exp data: {}\".format(X_exp[0].shape))\n",
    "\n",
    "\n",
    "import random\n",
    "import matplotlib.pyplot as plt\n",
    "%matplotlib inline\n",
    "\n",
    "index = random.randint(0, len(X_exp))\n",
    "image = X_exp[index].squeeze()\n",
    "\n",
    "plt.figure()\n",
    "plt.imshow(image, cmap=\"gray\")\n",
    "print(y_exp[index])\n",
    "\n",
    "with tf.Session() as sess:\n",
    "    saver.restore(sess, tf.train.latest_checkpoint('.'))\n",
    "\n",
    "    test_accuracy = evaluate(X_exp, y_exp)\n",
    "    print(\"Test Accuracy = {:.3f}\".format(test_accuracy))\n"
   ]
  },
  {
   "cell_type": "code",
   "execution_count": null,
   "metadata": {
    "collapsed": true
   },
   "outputs": [],
   "source": []
  }
 ],
 "metadata": {
  "anaconda-cloud": {},
  "kernelspec": {
   "display_name": "Python 3",
   "language": "python",
   "name": "python3"
  },
  "language_info": {
   "codemirror_mode": {
    "name": "ipython",
    "version": 3
   },
   "file_extension": ".py",
   "mimetype": "text/x-python",
   "name": "python",
   "nbconvert_exporter": "python",
   "pygments_lexer": "ipython3",
   "version": "3.5.4"
  },
  "widgets": {
   "state": {},
   "version": "1.1.2"
  }
 },
 "nbformat": 4,
 "nbformat_minor": 1
}
